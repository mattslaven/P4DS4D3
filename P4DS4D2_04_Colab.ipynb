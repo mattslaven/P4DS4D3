{
  "nbformat": 4,
  "nbformat_minor": 0,
  "metadata": {
    "colab": {
      "provenance": [],
      "include_colab_link": true
    },
    "kernelspec": {
      "name": "python3",
      "display_name": "Python 3"
    }
  },
  "cells": [
    {
      "cell_type": "markdown",
      "metadata": {
        "id": "view-in-github",
        "colab_type": "text"
      },
      "source": [
        "<a href=\"https://colab.research.google.com/github/mattslaven/P4DS4D3/blob/main/P4DS4D3_04_Colab.ipynb\" target=\"_parent\"><img src=\"https://colab.research.google.com/assets/colab-badge.svg\" alt=\"Open In Colab\"/></a>"
      ]
    },
    {
      "metadata": {
        "id": "7xG7Zkdk-tF_"
      },
      "cell_type": "markdown",
      "source": [
        "# Performing Common Tasks"
      ]
    },
    {
      "metadata": {
        "id": "6yaQ57vmAsdC"
      },
      "cell_type": "markdown",
      "source": [
        "## Creating code cells"
      ]
    },
    {
      "metadata": {
        "id": "PwvaI-nF1ZaM",
        "colab": {
          "base_uri": "https://localhost:8080/",
          "height": 34
        },
        "outputId": "1055ca4a-913e-4f14-974a-7dbcb17b76e7"
      },
      "cell_type": "code",
      "source": [
        "print('Hello There!')"
      ],
      "execution_count": null,
      "outputs": [
        {
          "output_type": "stream",
          "text": [
            "Hello There!\n"
          ],
          "name": "stdout"
        }
      ]
    },
    {
      "metadata": {
        "id": "26ktBf7OAk2z"
      },
      "cell_type": "markdown",
      "source": [
        "## Creating text cells"
      ]
    },
    {
      "metadata": {
        "id": "fGf8EzC3BSNB"
      },
      "cell_type": "markdown",
      "source": [
        "## Creating special cells"
      ]
    },
    {
      "metadata": {
        "id": "_ccCNVKnBWOB"
      },
      "cell_type": "markdown",
      "source": [
        "### Working with headings"
      ]
    },
    {
      "metadata": {
        "id": "jdcRF2WiBciq"
      },
      "cell_type": "markdown",
      "source": [
        "### Working with table of contents"
      ]
    },
    {
      "metadata": {
        "id": "2rdZ0d-NBgTK",
        "colab_type": "toc"
      },
      "cell_type": "markdown",
      "source": [
        ">[Performing Common Tasks](#scrollTo=7xG7Zkdk-tF_)\n",
        "\n",
        ">>[Creating code cells](#scrollTo=6yaQ57vmAsdC)\n",
        "\n",
        ">>[Creating text cells](#scrollTo=26ktBf7OAk2z)\n",
        "\n",
        ">>[Creating special cells](#scrollTo=fGf8EzC3BSNB)\n",
        "\n",
        ">>>[Working with headings](#scrollTo=_ccCNVKnBWOB)\n",
        "\n",
        ">>>[Working with table of contents](#scrollTo=jdcRF2WiBciq)\n",
        "\n"
      ]
    }
  ]
}
